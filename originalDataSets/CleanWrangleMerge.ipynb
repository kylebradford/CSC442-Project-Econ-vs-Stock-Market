{
  "cells": [
    {
      "cell_type": "markdown",
      "metadata": {
        "id": "mPtU-GXss_Wr"
      },
      "source": [
        "<h1> Run to Mount Drive Instance with Current Data (Must Run First) <h1>"
      ]
    },
    {
      "cell_type": "code",
      "execution_count": null,
      "metadata": {
        "colab": {
          "base_uri": "https://localhost:8080/"
        },
        "id": "5OgrqxWhkxRp",
        "outputId": "2fad5fbb-2cd3-4164-beb1-bd7f68d29b47"
      },
      "outputs": [],
      "source": [
        "from google.colab import drive\n",
        "drive.mount('/content/drive', force_remount=True)"
      ]
    },
    {
      "cell_type": "markdown",
      "metadata": {
        "id": "oUbfAy_Ksxvd"
      },
      "source": [
        "<h1> Format (.txt) Files to (.csv) Data <h1>\n"
      ]
    },
    {
      "cell_type": "markdown",
      "metadata": {},
      "source": [
        "The code below takes the folder of stock indices and converts the entire folder of txt files to a single csv."
      ]
    },
    {
      "cell_type": "code",
      "execution_count": null,
      "metadata": {
        "colab": {
          "base_uri": "https://localhost:8080/"
        },
        "id": "Os9kpSDfhsXt",
        "outputId": "5af4d87b-c68b-4fe1-c803-879d1002fefe"
      },
      "outputs": [
        {
          "name": "stdout",
          "output_type": "stream",
          "text": [
            "Merged CSV saved as: C:\\Users\\kjbsh\\Documents\\StockOut.csv\n"
          ]
        }
      ],
      "source": [
        "import os\n",
        "import pandas as pd\n",
        "\n",
        "# Define the folder path containing the .txt files and the output CSV file.g\n",
        "# Change these to your folder location and output file name\n",
        "FOLDER_PATH = r\"C:\\Users\\kjbsh\\Documents\\CSC442-Project-Econ-vs-Stock-Market\\originalDataSets\\world\\stooq stocks indices\"  # Change this to your folder location\n",
        "OUTPUT_FILE = r\"C:\\Users\\kjbsh\\Documents\\StockOut.csv\" \n",
        "\n",
        "def merge_txt_to_csv(folder_path, output_file):\n",
        "    all_files = [f for f in os.listdir(folder_path) if f.endswith('.txt')]\n",
        "    merged_data = []\n",
        "\n",
        "    if not all_files:\n",
        "        print(\"No text files found in the folder.\")\n",
        "        return\n",
        "\n",
        "    for file in all_files:\n",
        "        file_path = os.path.join(folder_path, file)\n",
        "        try:\n",
        "            # Read the file into a DataFrame\n",
        "            df = pd.read_csv(file_path, delimiter=',', header=0)\n",
        "            df['Source'] = file  # Add a column to track source file name\n",
        "            merged_data.append(df)\n",
        "        except Exception as e:\n",
        "            print(f\"Error reading {file}: {e}\")\n",
        "\n",
        "    if merged_data:\n",
        "        stock_df = pd.concat(merged_data, ignore_index=True)\n",
        "        stock_df.to_csv(output_file, index=False)\n",
        "        print(f\"Merged CSV saved as: {output_file}\")\n",
        "        return stock_df\n",
        "    else:\n",
        "        print(\"No valid data to merge.\")\n",
        "\n",
        "# Run the function\n",
        "stock_df = merge_txt_to_csv(FOLDER_PATH, OUTPUT_FILE)"
      ]
    },
    {
      "cell_type": "markdown",
      "metadata": {
        "id": "Poqvl80UtSXd"
      },
      "source": [
        "<h1> Selects Valid Countries from GEI Data <h1>"
      ]
    },
    {
      "cell_type": "markdown",
      "metadata": {
        "id": "j--u8KQQteo6"
      },
      "source": [
        "<h2> Countries: Germany, China(HK), Hungary, Japan, Poland, UK, US <h2"
      ]
    },
    {
      "cell_type": "code",
      "execution_count": null,
      "metadata": {
        "colab": {
          "base_uri": "https://localhost:8080/"
        },
        "id": "ysWfX9Vkh3Vh",
        "outputId": "837870d4-32bd-41a0-eb18-55f86e8191ee"
      },
      "outputs": [
        {
          "name": "stdout",
          "output_type": "stream",
          "text": [
            "Index(['CountryID', 'Country', 'Year', 'AMA exchange rate',\n",
            "       'IMF based exchange rate', 'Population', 'Currency', 'Per capita GNI',\n",
            "       'Agriculture, hunting, forestry, fishing (ISIC A-B)',\n",
            "       'Changes in inventories', 'Construction (ISIC F)',\n",
            "       'Exports of goods and services', 'Final consumption expenditure',\n",
            "       'General government final consumption expenditure',\n",
            "       'Gross capital formation',\n",
            "       'Gross fixed capital formation (including Acquisitions less disposals of valuables)',\n",
            "       'Household consumption expenditure (including Non-profit institutions serving households)',\n",
            "       'Imports of goods and services', 'Manufacturing (ISIC D)',\n",
            "       'Mining, Manufacturing, Utilities (ISIC C-E)',\n",
            "       'Other Activities (ISIC J-P)', 'Total Value Added',\n",
            "       'Transport, storage and communication (ISIC I)',\n",
            "       'Wholesale, retail trade, restaurants and hotels (ISIC G-H)',\n",
            "       'Gross National Income(GNI) in USD', 'Gross Domestic Product (GDP)'],\n",
            "      dtype='object')\n",
            "Filtered CSV saved as econData.csv\n"
          ]
        }
      ],
      "source": [
        "import pandas as pd\n",
        "\n",
        "\n",
        "# Read in the econ data\n",
        "\n",
        "df = pd.read_csv(r\"c:\\Users\\kjbsh\\Documents\\CSC442-Project-Econ-vs-Stock-Market\\originalDataSets\\Global Economy Indicators.csv\")\n",
        "\n",
        "# Strip whitespace from column names\n",
        "df.columns = df.columns.str.strip()\n",
        "# Strip whitespace from Country names\n",
        "df[\"Country\"] = df[\"Country\"].str.strip()\n",
        "# Print column names to verify\n",
        "print(df.columns)\n",
        "\n",
        "# Define the list of valid countries\n",
        "valid_countries = [\n",
        "    \"Germany\",                  # ^de\n",
        "    \"China, Hong Kong SAR\",     # ^hk\n",
        "    \"Hungary\",                  # ^hu\n",
        "    \"Japan\",                    # ^jp\n",
        "    \"Poland\",                   # ^pl, ^pl20, ^plnc, ^plws\n",
        "    \"United Kingdom\",           # ^uk\n",
        "    \"United States\"             # ^us, ^usnm, ^usnq, ^usns\n",
        "]\n",
        "\n",
        "# Filter the DataFrame so only rows with these countries remain\n",
        "gei_df = df[df[\"Country\"].isin(valid_countries)]\n",
        "\n",
        "# Write filtered data to a new CSV\n",
        "gei_df.to_csv(r\"c:\\Users\\kjbsh\\Documents\\econData.csv\", index=False)\n",
        "\n",
        "print(\"Filtered CSV saved as econData.csv\")"
      ]
    },
    {
      "cell_type": "markdown",
      "metadata": {
        "id": "0meC7_b6skxQ"
      },
      "source": [
        "<h1> Data Merging <h1>"
      ]
    },
    {
      "cell_type": "code",
      "execution_count": null,
      "metadata": {},
      "outputs": [
        {
          "name": "stdout",
          "output_type": "stream",
          "text": [
            "   Country <TICKER>    <DATE>  <CLOSE>        <VOL>       Date  Year Quarter  \\\n",
            "0  Germany     ^_DE  20160331   964.04  123999909.0 2016-03-31  2016  2016Q1   \n",
            "1  Germany     ^_DE  20160630   928.32  184567273.0 2016-06-30  2016  2016Q2   \n",
            "2  Germany     ^_DE  20160930   957.00  232584243.0 2016-09-30  2016  2016Q3   \n",
            "3  Germany     ^_DE  20161230   945.10   61221620.0 2016-12-30  2016  2016Q4   \n",
            "4  Germany     ^_DE  20170331  1046.19  162410852.0 2017-03-31  2017  2017Q1   \n",
            "\n",
            "   CountryID  IMF based exchange rate  Population Currency  Per capita GNI  \\\n",
            "0        276                 0.904035    82331423    Euro            43161   \n",
            "1        276                 0.904035    82331423    Euro            43161   \n",
            "2        276                 0.904035    82331423    Euro            43161   \n",
            "3        276                 0.904035    82331423    Euro            43161   \n",
            "4        276                 0.885206    82624374    Euro            45735   \n",
            "\n",
            "   Exports of goods and services  Final consumption expenditure  \\\n",
            "0                   1.600000e+12                   2.520000e+12   \n",
            "1                   1.600000e+12                   2.520000e+12   \n",
            "2                   1.600000e+12                   2.520000e+12   \n",
            "3                   1.600000e+12                   2.520000e+12   \n",
            "4                   1.740000e+12                   2.660000e+12   \n",
            "\n",
            "   General government final consumption expenditure  \\\n",
            "0                                      6.900000e+11   \n",
            "1                                      6.900000e+11   \n",
            "2                                      6.900000e+11   \n",
            "3                                      6.900000e+11   \n",
            "4                                      7.320000e+11   \n",
            "\n",
            "   Imports of goods and services  Gross National Income(GNI) in USD  \\\n",
            "0                   1.340000e+12                       3.550000e+12   \n",
            "1                   1.340000e+12                       3.550000e+12   \n",
            "2                   1.340000e+12                       3.550000e+12   \n",
            "3                   1.340000e+12                       3.550000e+12   \n",
            "4                   1.480000e+12                       3.780000e+12   \n",
            "\n",
            "   Gross Domestic Product (GDP)  \n",
            "0                  3.470000e+12  \n",
            "1                  3.470000e+12  \n",
            "2                  3.470000e+12  \n",
            "3                  3.470000e+12  \n",
            "4                  3.690000e+12  \n"
          ]
        }
      ],
      "source": [
        "import pandas as pd\n",
        "\n",
        "# READ BOTH DATASETS\n",
        "# Replace these paths with proper file locations\n",
        "gei_df = pd.read_csv(r\"c:\\Users\\kjbsh\\Documents\\econData.csv\")\n",
        "stock_df = pd.read_csv(r\"c:\\Users\\kjbsh\\Documents\\StockOut.csv\")\n",
        "\n",
        "# PRUNE ECON COLUMNS \n",
        "columns_to_drop = [\n",
        "    \"AMA exchange rate\",\n",
        "    \"Changes in inventories\",\n",
        "    \"Construction (ISIC F)\",\n",
        "    \"Gross capital formation\",\n",
        "    \"Gross fixed capital formation (including Acquisitions less disposals of valuables)\",\n",
        "    \"Household consumption expenditure (including Non-profit institutions serving households)\",\n",
        "    \"Manufacturing (ISIC D)\",\n",
        "    \"Other Activities (ISIC J-P)\",\n",
        "    \"Total Value Added\",\n",
        "]\n",
        "gei_df.drop(columns=[c for c in columns_to_drop if c in gei_df.columns],\n",
        "            inplace=True, errors=\"ignore\")\n",
        "\n",
        "# KEEP ONLY <TICKER>, <DATE>, <VOL>, <CLOSE> IN THE STOCK DATA\n",
        "stock_df = stock_df[[\"<TICKER>\", \"<DATE>\", \"<CLOSE>\", \"<VOL>\"]]\n",
        "\n",
        "# CONVERT <DATE> TO DATETIME, EXTRACT YEAR/QUARTER, PICK LAST ROW/Q\n",
        "# Parse <DATE> = YYYYMMDD\n",
        "stock_df[\"Date\"] = pd.to_datetime(stock_df[\"<DATE>\"], format=\"%Y%m%d\", errors=\"coerce\")\n",
        "\n",
        "# Extract the Year\n",
        "stock_df[\"Year\"] = stock_df[\"Date\"].dt.year\n",
        "\n",
        "# Filter to ignore 2022–2024, keep only Year <= 2021\n",
        "stock_df = stock_df.query(\"Year <= 2021\")\n",
        "\n",
        "# Determine the quarter\n",
        "stock_df[\"Quarter\"] = stock_df[\"Date\"].dt.to_period(\"Q\")\n",
        "\n",
        "# Sort to ensure tail(1) picks the last date in each quarter\n",
        "stock_df.sort_values(by=[\"<TICKER>\", \"Date\"], inplace=True)\n",
        "\n",
        "# For each TICKER / Year / Quarter, pick the last entry\n",
        "stock_quarterly = (\n",
        "    stock_df\n",
        "    .groupby([\"<TICKER>\", \"Year\", \"Quarter\"], as_index=False)\n",
        "    .tail(1)\n",
        ")\n",
        "\n",
        "# MAP TICKERS TO COUNTRIES\n",
        "mapping_df = pd.DataFrame({\n",
        "    \"Country\": [\n",
        "        \"Germany\", \n",
        "        \"China, Hong Kong SAR\", \n",
        "        \"Hungary\",\n",
        "        \"Japan\",\n",
        "        \"Poland\", \"Poland\", \"Poland\", \"Poland\",\n",
        "        \"United Kingdom\",\n",
        "        \"United States\", \"United States\", \"United States\", \"United States\"\n",
        "    ],\n",
        "    \"<TICKER>\": [\n",
        "        \"^_DE\", \"^_HK\", \"^_HU\", \"^_JP\",\n",
        "        \"^_PL\", \"^_PL20\", \"^_PLNC\", \"^_PLWS\",\n",
        "        \"^_UK\",\n",
        "        \"^_US\", \"^_USNM\", \"^_USNQ\", \"^_USNS\"\n",
        "    ]\n",
        "})\n",
        "\n",
        "stock_quarterly = stock_quarterly.merge(mapping_df, on=\"<TICKER>\", how=\"left\")\n",
        "\n",
        "# REORDER COLUMNS\n",
        "desired_order = [\n",
        "    \"Country\", \n",
        "    \"<TICKER>\", \"<DATE>\", \"<CLOSE>\", \"<VOL>\",\n",
        "    \"Date\", \"Year\", \"Quarter\", \n",
        "    \"CountryID\",\n",
        "    \"IMF based exchange rate\",\n",
        "    \"Population\",\n",
        "    \"Currency\",\n",
        "    \"Per capita GNI\",\n",
        "    \"Exports of goods and services\",\n",
        "    \"Final consumption expenditure\",\n",
        "    \"General government final consumption expenditure\",\n",
        "    \"Imports of goods and services\",\n",
        "    \"Gross National Income(GNI) in USD\",\n",
        "    \"Gross Domestic Product (GDP)\"\n",
        "]\n",
        "\n",
        "# Filter only those columns that actually exist in merged_df\n",
        "final_columns = [col for col in desired_order if col in merged_df.columns]\n",
        "\n",
        "merged_df = merged_df[final_columns]\n",
        "\n",
        "# OUTPUT FINAL MERGED DATA AS CSV\n",
        "merged_df.to_csv(r\"c:\\Users\\kjbsh\\Documents\\CSC442-Project-Econ-vs-Stock-Market\\finalMerged\", index=False)\n",
        "\n",
        "# preview the first few rows\n",
        "print(merged_df.head())\n"
      ]
    }
  ],
  "metadata": {
    "colab": {
      "provenance": []
    },
    "kernelspec": {
      "display_name": "Python 3",
      "name": "python3"
    },
    "language_info": {
      "codemirror_mode": {
        "name": "ipython",
        "version": 3
      },
      "file_extension": ".py",
      "mimetype": "text/x-python",
      "name": "python",
      "nbconvert_exporter": "python",
      "pygments_lexer": "ipython3",
      "version": "3.12.3"
    }
  },
  "nbformat": 4,
  "nbformat_minor": 0
}
